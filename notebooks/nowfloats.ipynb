{
 "cells": [
  {
   "cell_type": "markdown",
   "metadata": {
    "collapsed": true
   },
   "source": [
    "<h1 align=\"center\"> Nowfloats Screening round, CET BBSR, 19/08/2016</h1>\n",
    "<h2 align=\"center\"> Revenge of the Pokemons </h2>\n",
    "<h4 align=\"center\"> General Instructions </h4>\n",
    "<h4 align=\"center\"> Total time : 75 mins </h4>\n",
    "<h4 align=\"center\"> Total Questions : 4 </h4>\n",
    "<h4 align=\"center\"> Maximum points : 120 </h4>\n",
    "<h4 align=\"center\"> Qualifying points : 60 </h4>\n",
    "<p></p>\n",
    "<h3 align=\"center\"> Prologue </h3>\n",
    "<p></p>\n",
    "<div align=\"center\">When it comes to catching Pokemons, no-one has beat the students at  NowFloats University. Since launch, catching these monsters has gone viral at NowFloats. The students have mastered the knack of throwing PokeBalls and haven't spared even one.\n",
    "Pokemons around the world travelling through Hyderabad have never been seen again. They say that the life of a Pokemon around here is hardly a few seconds. This created a serious scare among Pokemons around the world and thus, they called a meeting. In this meeting, it was decided that all the pokemons attack NowFloats University and raze it to the ground. This attack would more affect Hyderabad so to erase every possibility of comeback. The revenge has started. </div>\n"
   ]
  },
  {
   "cell_type": "code",
   "execution_count": null,
   "metadata": {},
   "outputs": [],
   "source": [
    ""
   ]
  },
  {
   "cell_type": "code",
   "execution_count": null,
   "outputs": [],
   "source": [
    ""
   ]
  }
 ],
 "metadata": {
  "kernelspec": {
   "display_name": "Python 2",
   "language": "python",
   "name": "python2"
  },
  "language_info": {
   "codemirror_mode": {
    "name": "ipython",
    "version": 2.0
   },
   "file_extension": ".py",
   "mimetype": "text/x-python",
   "name": "python",
   "nbconvert_exporter": "python",
   "pygments_lexer": "ipython2",
   "version": "2.7.6"
  }
 },
 "nbformat": 4,
 "nbformat_minor": 0
}