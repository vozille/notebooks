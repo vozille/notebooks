{
 "cells": [
  {
   "cell_type": "markdown",
   "metadata": {},
   "source": [
    "<h1 align=\"center\"> Nowfloats Screening round, CET BBSR, 19/08/2016</h1>\n",
    "<h2 align=\"center\"> Revenge of the Pokemons </h2>\n",
    "<h4 align=\"center\"> General Instructions </h4>\n",
    "<h4 align=\"center\"> Total time : 75 mins </h4>\n",
    "<h4 align=\"center\"> Total Questions : 4 </h4>\n",
    "<h4 align=\"center\"> Maximum points : 120 </h4>\n",
    "<h4 align=\"center\"> Qualifying points : 60 </h4>\n",
    "<p></p>\n",
    "<h3 align=\"center\"> Prologue </h3>\n",
    "<p></p>\n",
    "<div align=\"center\">When it comes to catching Pokemons, no-one has beat the students at  NowFloats University. Since launch, catching these monsters has gone viral at NowFloats. The students have mastered the knack of throwing PokeBalls and haven't spared even one.\n",
    "Pokemons around the world travelling through Hyderabad have never been seen again. They say that the life of a Pokemon around here is hardly a few seconds. This created a serious scare among Pokemons around the world and thus, they called a meeting. In this meeting, it was decided that all the pokemons attack NowFloats University and raze it to the ground. This attack would more affect Hyderabad so to erase every possibility of comeback. The revenge has started. </div>\n"
   ]
  },
  {
   "cell_type": "markdown",
   "metadata": {},
   "source": [
    "<h3 align=\"center\"> Chapter 1 </h3>\n",
    "<h3 align=\"center\"> Points : 50 </h3>\n",
    "<div align=\"left\"> Day of the attack\n",
    "10:00 AM\n",
    "\n",
    "Here’s a conversation between two gym leaders, Pranav and Rachit. They are roommates and have shared every secret to catch’em all. <br>\n",
    "Pranav : Dude, wake up. Check your whatsapp <br>\n",
    "Rachit : What happened? It's 5 in the morning. <br>\n",
    "Pranav : Look at these pictures! Sajal got attacked around midnight and is badly injured. Everyone is scared and staying in. They have burnt our library, completely destroyed our labs and spreading fast outside the campus. <br>\n",
    "Rachit : *completely woken up now* Oh yes, i have more pictures. They are everywhere, we have to do something. If we don't stop them, our beautiful city could be destroyed.<br>\n",
    "Pranav: I have an idea. Lets first stop the Pokemons from spreading across the campus. First we need to build a fence around them. But the question is how do we do thet :O <br>\n",
    "Rachit: Great idea. I can make the fence real fast but we also need to plan as to where we would put up the pillars for the fence. Any idea?  <br>\n",
    "Pranav: Let me attack the pokemons on the outer ring of the attack zone. As soon as i catch a pokemon, i will also build the fence pillar. You follow me secretly and build the fence around those pillars. <br>\n",
    "So they start. <br>\n",
    "Consider there are N pokemons that attacked the campus. And the location of the ith pokemon can be represented as (xi, yi). Help Pranav find the pokemons that he needs to catch (and build a fence pillar at that location) so that Rachit can quickly fence all the pokemons. Remember they have only limited material to build the fence. <br><br>\n",
    "Write a code which Pranav can run to get the M locations $${(x_1,y_1), (x_2,y_2) … (x_m,y_m)}$$ of pokemons where he can catch pokemons and also build the pillars.<br><br>\n",
    "<h3>Example 1:</h3>\n",
    "<h4>Input</h4>\n",
    "4 <br>\n",
    "35 7 <br>\n",
    "55 65 <br>\n",
    "35 41 <br>\n",
    "17 62 <br>\n",
    "<h4>Output</h4>\n",
    "3 <br>\n",
    "17 62 <br>\n",
    "35 7 <br>\n",
    "55 65 <br>\n",
    "<h3> Explanation </h3>\n",
    "Number of pokemons (N) : 4 <br>\n",
    "Locations of the pokemons (Loc_array): (35,7), (55,65), (35,41), (17,62) <br>\n",
    "Result: <br>\n",
    "Minimum number of location where pillar needs to be built (M): 3 <br>\n",
    "Location of the pillars: (17,62), (35,7), (55, 65) <br>\n",
    "</div>\n"
   ]
  },
  {
   "cell_type": "markdown",
   "metadata": {},
   "source": [
    "![Locations of pokemons and the fence](./Q1.png)\n",
    "<h4> This will ensure that all the pokemons are caged. The pokemon at the location (35,41) will automatically get surrounded by fence. </h4>\n",
    "\n",
    "<h3>Example2:</h3>\n",
    "<h4>Input: </h4>\n",
    "N: 6 <br>\n",
    "Loc_array: [(377,106), (588,361), (450,261), (377, 261), (274, 381), (404, 342)] <br>\n",
    "<h4>Output: </h4>\n",
    "3 <br>\n",
    "377,106 <br>\n",
    "588,361 <br>\n",
    "274,381 <br>"
   ]
  },
  {
   "cell_type": "code",
   "execution_count": 15,
   "metadata": {
    "collapsed": false
   },
   "outputs": [],
   "source": []
  },
  {
   "cell_type": "code",
   "execution_count": null,
   "metadata": {
    "collapsed": true
   },
   "outputs": [],
   "source": []
  }
 ],
 "metadata": {
  "kernelspec": {
   "display_name": "Python 2",
   "language": "python",
   "name": "python2"
  },
  "language_info": {
   "codemirror_mode": {
    "name": "ipython",
    "version": 2
   },
   "file_extension": ".py",
   "mimetype": "text/x-python",
   "name": "python",
   "nbconvert_exporter": "python",
   "pygments_lexer": "ipython2",
   "version": "2.7.6"
  }
 },
 "nbformat": 4,
 "nbformat_minor": 0
}
